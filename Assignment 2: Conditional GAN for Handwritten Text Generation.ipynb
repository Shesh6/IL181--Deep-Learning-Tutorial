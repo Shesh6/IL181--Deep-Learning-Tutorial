{
  "nbformat": 4,
  "nbformat_minor": 0,
  "metadata": {
    "colab": {
      "name": "Deep Learning Tutorial Assignment 2 - Conditional GAN.ipynb",
      "provenance": []
    },
    "kernelspec": {
      "name": "python3",
      "display_name": "Python 3"
    },
    "accelerator": "GPU"
  },
  "cells": [
    {
      "cell_type": "markdown",
      "metadata": {
        "id": "2sJWqQTe1ENL",
        "colab_type": "text"
      },
      "source": [
        "##### Deep Learning Tutorial Assignment 2:  Generative Adversarial Networks\n",
        "_Yoav Rabinovich, November 2019_\n",
        "\n",
        "### Teaching a Conditional GAN to Read\n",
        "\n",
        "_____________"
      ]
    },
    {
      "cell_type": "markdown",
      "metadata": {
        "id": "72vkiKjyI68s",
        "colab_type": "text"
      },
      "source": [
        "In this assignment I trained a cGAN to generate handwritten letters using TensorFlow.\n",
        "\n",
        "We've been teaching our Neural Networks to read forever, but it's time we stopped neglecting the critical skill of writing. For this task we'll need a generative model which can produce a proper handwritten letter by request.\n",
        "\n",
        "In contrast to vanilla GANs, a conditional GAN learns not only the distribution that characterizes the dataset, but the distributions that characterize each of the classes in it. As opposed to training separate GANs for each class, a single cGAN generator can learn to produce samples from all classes in a single training session on the entire dataset. Perfect for our purposes.\n",
        "\n",
        "A cGAN has an indentical structure to a vanilla GAN, but the inputs for the generator and the discriminator are concatenated with an encoded target class. If the generator were to produce otherwise realistic samples that don't correlate with the correct class, the discriminator will be able to recognize them as fake by learning the correlation between the features and the class itself.\n",
        "\n",
        "Therefore, the model graph and the loss functions need not be modified for the cGAN case. I used cross-entropy loss: \n",
        "\n",
        "$$\\min_G \\max_D V(D, G) = \\mathop{\\mathbb{E}}_{x \\sim p_{data}(x)}[\\log D(x|y)] + \\mathop{\\mathbb{E}}_{z \\sim p_z(z)}[\\log(1 - D(G(z,y)|y))]$$\n",
        "\n",
        "For the purpose of this assignment I used the letters subset of EMNIST dataset (extended MNIST). Interestingly, since the capital letters were bunched together with lower case examples, the generator learned that two distributions for each class were permissable.\n",
        "\n",
        "In some cases, the distributions are very similar (\"c\" and \"C\" for example), but in others, we find that the input space was mapped into two separate distributions, such as the case with our last example, that features both lower case and capital versions of \"A\". Actually, two versions of lower case \"a\" can be seen there as well, so in some cases more than two distributions we learned. \n",
        "\n",
        "In other letters, it seems that there was internal \"mode-collapse\" in the learned representation for the class: \"e\" for example, is never seen in its capital form. This might be due to the capital \"E\" being similar in shape to other letters (\"B\" for example), which were avoided in favor of distributions more distinct than those of other classes.\n",
        "\n",
        "This leads to the phenomenon where we see some results that seem like an interpolation of the lower case and capital forms of a letter, but none that interpolate between classes: the latter would've been punished by the discriminator, while the former was allowed. In further work on this problem, separation of the forms into distinct classes is therefore advised, to prevent interpolation.\n",
        "\n",
        "_Architecture and TensorFlow code adapted from MNIST example in https://wiseodd.github.io/techblog/2016/12/24/conditional-gan-tensorflow/_\n",
        "\n",
        "_Original cGAN paper https://arxiv.org/abs/1411.1784_"
      ]
    },
    {
      "cell_type": "markdown",
      "metadata": {
        "id": "42wxaKI81BP_",
        "colab_type": "text"
      },
      "source": [
        "#### Imports"
      ]
    },
    {
      "cell_type": "code",
      "metadata": {
        "id": "cOrZxyOosz3b",
        "colab_type": "code",
        "colab": {}
      },
      "source": [
        "import numpy as np\n",
        "import matplotlib.pyplot as plt\n",
        "import tensorflow as tf\n",
        "# !pip install emnist\n",
        "import emnist\n",
        "from sklearn.preprocessing import OneHotEncoder\n",
        "from tensorflow.contrib.learn.python.learn.datasets import mnist\n",
        "import string"
      ],
      "execution_count": 0,
      "outputs": []
    },
    {
      "cell_type": "markdown",
      "metadata": {
        "id": "DOFpR3YU1IDg",
        "colab_type": "text"
      },
      "source": [
        "#### Preprocessing"
      ]
    },
    {
      "cell_type": "code",
      "metadata": {
        "id": "sNxqykUotAHT",
        "colab_type": "code",
        "colab": {}
      },
      "source": [
        "# Extracting data from EMNIST package\n",
        "em_train_images, em_train_labels = emnist.extract_training_samples('letters')\n",
        "# Applying one-hot encoding\n",
        "ohe = OneHotEncoder(26)\n",
        "em_onehot = ohe.fit_transform(np.subtract(em_train_labels,1).reshape(-1, 1)).toarray()\n",
        "em_data = em_train_images.reshape((em_train_images.shape[0],em_train_images.shape[1],em_train_images.shape[2],1))\n",
        "# Using DataSet class from the TF tutorials package for easy batch loading\n",
        "emnist = mnist.DataSet(em_data,em_onehot,one_hot=True)"
      ],
      "execution_count": 0,
      "outputs": []
    },
    {
      "cell_type": "markdown",
      "metadata": {
        "id": "_q59KoHh1p2i",
        "colab_type": "text"
      },
      "source": [
        "#### Graphing the Model\n",
        "\n",
        "Defining a model graph to run, as a set of nested TensorFlow fuctions:"
      ]
    },
    {
      "cell_type": "code",
      "metadata": {
        "id": "oOA7CF_mto4o",
        "colab_type": "code",
        "colab": {}
      },
      "source": [
        "# Input parameters, according to dataset:\n",
        "# Shape of data (28 by 28 pixel image)\n",
        "X_dim = 28**2\n",
        "# Length of class list (26 letters)\n",
        "y_dim = 26\n",
        "\n",
        "# Model parameters, taken from reference:\n",
        "# Dimension of noise input space for the generator\n",
        "Z_dim = 100\n",
        "# Dimension of hidden layers\n",
        "h_dim = 128"
      ],
      "execution_count": 0,
      "outputs": []
    },
    {
      "cell_type": "code",
      "metadata": {
        "id": "AkQCMbaHY7QA",
        "colab_type": "code",
        "colab": {}
      },
      "source": [
        "# Defining variables for inputs:\n",
        "# Data flattened\n",
        "X = tf.placeholder(tf.float32, shape=[None, X_dim])\n",
        "# Class encoded as a one-hot vector\n",
        "y = tf.placeholder(tf.float32, shape=[None, y_dim])\n",
        "# Noise as input for generator\n",
        "Z = tf.placeholder(tf.float32, shape=[None, Z_dim])"
      ],
      "execution_count": 0,
      "outputs": []
    },
    {
      "cell_type": "code",
      "metadata": {
        "id": "juqzxaIctgmZ",
        "colab_type": "code",
        "colab": {}
      },
      "source": [
        "def xavier_init(size):\n",
        "    \"\"\"\n",
        "    Xavier initialization for weights in the network.\n",
        "    \"\"\"\n",
        "    xavier_stddev = 1. / tf.sqrt(size[0] / 2.)\n",
        "    return tf.random_normal(shape=size, stddev=xavier_stddev)"
      ],
      "execution_count": 0,
      "outputs": []
    },
    {
      "cell_type": "code",
      "metadata": {
        "id": "zJaxzaz_Y94f",
        "colab_type": "code",
        "colab": {}
      },
      "source": [
        "# Defining weight and bias variables for descriminator hidden and logit layers\n",
        "D_W1 = tf.Variable(xavier_init([X_dim + y_dim, h_dim]))\n",
        "D_b1 = tf.Variable(tf.zeros(shape=[h_dim]))\n",
        "D_W2 = tf.Variable(xavier_init([h_dim, 1]))\n",
        "D_b2 = tf.Variable(tf.zeros(shape=[1]))\n",
        "# Grouping trainable variables for the descriminator\n",
        "theta_D = [D_W1, D_W2, D_b1, D_b2]"
      ],
      "execution_count": 0,
      "outputs": []
    },
    {
      "cell_type": "code",
      "metadata": {
        "id": "yDL5SMBqtqdp",
        "colab_type": "code",
        "colab": {}
      },
      "source": [
        "def discriminator(x, y):\n",
        "    \"\"\"\n",
        "    Discriminator structure with one hidden layer:\n",
        "    The input is an image, real or fake, concatenated with a class label.\n",
        "    The hidden layer is wrapped in a reLU activation function\n",
        "    The logit layer output is used for loss calculation\n",
        "    The logits are then normalized through a sigmoid to produce probabilities\n",
        "    for possible classification uses.\n",
        "    \"\"\"\n",
        "    inputs = tf.concat(axis=1, values=[x, y])\n",
        "    D_h1 = tf.nn.relu(tf.matmul(inputs, D_W1) + D_b1)\n",
        "    D_logit = tf.matmul(D_h1, D_W2) + D_b2\n",
        "    D_prob = tf.nn.sigmoid(D_logit)\n",
        "\n",
        "    return D_prob, D_logit"
      ],
      "execution_count": 0,
      "outputs": []
    },
    {
      "cell_type": "code",
      "metadata": {
        "id": "-Yx8kiSetsYt",
        "colab_type": "code",
        "colab": {}
      },
      "source": [
        "# Defining weight and bias variables for generator hidden and logit layers\n",
        "G_W1 = tf.Variable(xavier_init([Z_dim + y_dim, h_dim]))\n",
        "G_b1 = tf.Variable(tf.zeros(shape=[h_dim]))\n",
        "G_W2 = tf.Variable(xavier_init([h_dim, X_dim]))\n",
        "G_b2 = tf.Variable(tf.zeros(shape=[X_dim]))\n",
        "# Grouping trainable variables for the descriminator\n",
        "theta_G = [G_W1, G_W2, G_W3, G_b1, G_b2, G_b3]"
      ],
      "execution_count": 0,
      "outputs": []
    },
    {
      "cell_type": "code",
      "metadata": {
        "id": "ZdDvyFX5ttov",
        "colab_type": "code",
        "colab": {}
      },
      "source": [
        "def generator(z, y):\n",
        "    \"\"\"\n",
        "    Generator structure with one hidden layer:\n",
        "    The input is random noise, concatenated with a class label.\n",
        "    The hidden layer is wrapped in a reLU activation function\n",
        "    The logit layer output normalized through a sigmoid to generate fake images.\n",
        "    \"\"\"\n",
        "    inputs = tf.concat(axis=1, values=[z, y])\n",
        "    G_h1 = tf.nn.relu(tf.matmul(inputs, G_W1) + G_b1)\n",
        "    G_log_prob = tf.matmul(G_h1, G_W2) + G_b2\n",
        "    G_prob = tf.nn.sigmoid(G_log_prob)\n",
        "\n",
        "    return G_prob"
      ],
      "execution_count": 0,
      "outputs": []
    },
    {
      "cell_type": "code",
      "metadata": {
        "id": "wBCmaQM5tyDv",
        "colab_type": "code",
        "colab": {}
      },
      "source": [
        "# Defining the cross-entropy loss function for each of the networks:\n",
        "# G_sample is used for fake image generation\n",
        "G_sample = generator(Z, y)\n",
        "# D_logit passes an image through the discriminator\n",
        "_, D_logit_real = discriminator(X, y)\n",
        "_, D_logit_fake = discriminator(G_sample, y)\n",
        "# Discriminator loss is the sum of the cross-entropy loss on false positives\n",
        "# and the cross-entropy loss on false negatives\n",
        "D_loss_real = tf.reduce_mean(tf.nn.sigmoid_cross_entropy_with_logits(logits=D_logit_real, labels=tf.ones_like(D_logit_real)))\n",
        "D_loss_fake = tf.reduce_mean(tf.nn.sigmoid_cross_entropy_with_logits(logits=D_logit_fake, labels=tf.zeros_like(D_logit_fake)))\n",
        "D_loss = D_loss_real + D_loss_fake\n",
        "# Generator loss is cross-entropy for true positives\n",
        "G_loss = tf.reduce_mean(tf.nn.sigmoid_cross_entropy_with_logits(logits=D_logit_fake, labels=tf.ones_like(D_logit_fake)))\n",
        "# We then minimize the loss functions using Adam optimizers on the defined\n",
        "# trainable variable groups\n",
        "D_solver = tf.train.AdamOptimizer().minimize(D_loss, var_list=theta_D)\n",
        "G_solver = tf.train.AdamOptimizer().minimize(G_loss, var_list=theta_G)"
      ],
      "execution_count": 0,
      "outputs": []
    },
    {
      "cell_type": "markdown",
      "metadata": {
        "id": "K19AqVnE19NH",
        "colab_type": "text"
      },
      "source": [
        "#### Training the Model\n",
        "\n",
        "Training according to parameters adapted from the reference. I added an optional parameter for staggering the training of the discriminator, to prevent the common fail-state where a fast-learning discriminator prevents the generator training from taking off. Also tracking losses over time."
      ]
    },
    {
      "cell_type": "code",
      "metadata": {
        "id": "wngLEExQt16d",
        "colab_type": "code",
        "colab": {}
      },
      "source": [
        "# Start TensorFlow training session\n",
        "sess = tf.Session()\n",
        "# Initialize variables\n",
        "sess.run(tf.global_variables_initializer())\n",
        "\n",
        "# Training parameters\n",
        "b_size = 32\n",
        "iterations = 500000\n",
        "adv_ratio = 1\n",
        "D_losses = []\n",
        "G_losses = []\n",
        "\n",
        "# Training\n",
        "for i in range(iterations):\n",
        "\n",
        "    # Minibatches picked randomly without replacement within each epoch\n",
        "    X_mb, y_mb = emnist.next_batch(b_size)\n",
        "    # Train generator\n",
        "    Z_sample = np.random.uniform(-1., 1., [b_size, Z_dim])\n",
        "    _, G_loss_curr = sess.run([G_solver, G_loss], feed_dict={Z: Z_sample, y:y_mb})\n",
        "    G_losses.append(G_loss_curr)\n",
        "    # If the discriminator is to be trained this timestep, do so\n",
        "    if i % adv_ratio == 0:\n",
        "        _, D_loss_curr = sess.run([D_solver, D_loss], feed_dict={X: X_mb, Z: Z_sample, y:y_mb})\n",
        "        D_losses.append(D_loss_curr)\n"
      ],
      "execution_count": 0,
      "outputs": []
    },
    {
      "cell_type": "code",
      "metadata": {
        "id": "TGwscYmu-okp",
        "colab_type": "code",
        "outputId": "106a78ee-4f6c-41d8-c581-b4b264c96fdf",
        "colab": {
          "base_uri": "https://localhost:8080/",
          "height": 282
        }
      },
      "source": [
        "# Plot losses over time, generator loss in blue\n",
        "plt.plot(np.arange(0,iterations,1),G_losses)\n",
        "plt.plot(np.arange(0,iterations,adv_ratio),D_losses)"
      ],
      "execution_count": 0,
      "outputs": [
        {
          "output_type": "execute_result",
          "data": {
            "text/plain": [
              "[<matplotlib.lines.Line2D at 0x7f59f4887a20>]"
            ]
          },
          "metadata": {
            "tags": []
          },
          "execution_count": 95
        },
        {
          "output_type": "display_data",
          "data": {
            "image/png": "[encoded data removed]",
            "text/plain": [
              "<Figure size 432x288 with 1 Axes>"
            ]
          },
          "metadata": {
            "tags": []
          }
        }
      ]
    },
    {
      "cell_type": "markdown",
      "metadata": {
        "id": "_frxs3rN2D1K",
        "colab_type": "text"
      },
      "source": [
        "#### Results\n",
        "\n",
        "Showing off some generated text."
      ]
    },
    {
      "cell_type": "code",
      "metadata": {
        "id": "cgXWAqqiUZAv",
        "colab_type": "code",
        "colab": {}
      },
      "source": [
        "def write_message(message, generator,per_row=10,cmap=\"gray\"):\n",
        "    \"\"\"\n",
        "    Method to convert a string to an image of text generated by the network.\n",
        "    \"\"\"\n",
        "    # Remove capital letters and punctuation.\n",
        "    parsed = message.translate(str.maketrans('', '', string.punctuation)).lower()\n",
        "    # Encode letters for 0-26\n",
        "    encoded = [ord(c)-97 for c in parsed]\n",
        "    # Arrange in nice square array\n",
        "    for i in range(len(encoded),len(encoded)+per_row):\n",
        "        if i%per_row == 0:\n",
        "            break\n",
        "        else:\n",
        "            encoded.append(-1)\n",
        "    arranged = np.array(encoded).reshape(-1,per_row)\n",
        "    # Generate image\n",
        "    image = np.zeros((arranged.shape[0]*28,arranged.shape[1]*28))\n",
        "    for i, c in np.ndenumerate(arranged):\n",
        "        # Negative terms correspond to spaces and left as blank arrays\n",
        "        if c > -1:\n",
        "            # Sample random noise and concatenate required class\n",
        "            Z_sample = np.random.uniform(-1., 1., [1, Z_dim])\n",
        "            y_sample = np.zeros(shape=[1, y_dim])\n",
        "            y_sample[:,c] = 1\n",
        "            # Generate letter and set the pixel values in place\n",
        "            written = sess.run(generator, feed_dict={Z: Z_sample, y:y_sample}).reshape(28,28)\n",
        "            image[i[0]*28:(i[0]+1)*28,i[1]*28:(i[1]+1)*28] = written\n",
        "    # Plot image\n",
        "    plt.axis('off')\n",
        "    plt.imshow(image,cmap=cmap)"
      ],
      "execution_count": 0,
      "outputs": []
    },
    {
      "cell_type": "markdown",
      "metadata": {
        "id": "zHpxfaGR5Ogh",
        "colab_type": "text"
      },
      "source": [
        "The generator's writing is readable but a bit blurry and inconsistent, so most of the output looks like it was either written by a 6-year-old:"
      ]
    },
    {
      "cell_type": "code",
      "metadata": {
        "id": "hw8zeN14y-l_",
        "colab_type": "code",
        "outputId": "62b7c1ca-c5db-4128-871b-f9054ed1fa49",
        "colab": {
          "base_uri": "https://localhost:8080/",
          "height": 77
        }
      },
      "source": [
        "write_message(\"I lov to read books at skool! I dot now what is my favoret.   XP\", G_sample,22,\"gray_r\")"
      ],
      "execution_count": 0,
      "outputs": [
        {
          "output_type": "display_data",
          "data": {
            "image/png": "[encoded data removed]",
            "text/plain": [
              "<Figure size 432x288 with 1 Axes>"
            ]
          },
          "metadata": {
            "tags": []
          }
        }
      ]
    },
    {
      "cell_type": "markdown",
      "metadata": {
        "id": "yipuNjqm5eE3",
        "colab_type": "text"
      },
      "source": [
        "Or with blood, on a wall:"
      ]
    },
    {
      "cell_type": "code",
      "metadata": {
        "id": "YiXsDbkRqbh9",
        "colab_type": "code",
        "outputId": "ecf57e45-05f5-45ad-af37-df6ce346defd",
        "colab": {
          "base_uri": "https://localhost:8080/",
          "height": 75
        }
      },
      "source": [
        "write_message(\"The Chamber of Secrets has been opened. Enemies of the heir... beware\", G_sample,23,\"RdGy_r\")"
      ],
      "execution_count": 0,
      "outputs": [
        {
          "output_type": "display_data",
          "data": {
            "image/png": "[encoded data removed]",
            "text/plain": [
              "<Figure size 432x288 with 1 Axes>"
            ]
          },
          "metadata": {
            "tags": []
          }
        }
      ]
    },
    {
      "cell_type": "markdown",
      "metadata": {
        "id": "kjp_cvsE5hVd",
        "colab_type": "text"
      },
      "source": [
        "But is has one clear message to whoever reads this:"
      ]
    },
    {
      "cell_type": "code",
      "metadata": {
        "id": "15uE5liEyiiZ",
        "colab_type": "code",
        "outputId": "59c1a285-0fc4-4b2d-fdfa-78d27288b29d",
        "colab": {
          "base_uri": "https://localhost:8080/",
          "height": 81
        }
      },
      "source": [
        "write_message(\"Professor Sterne is a great and generous grader\",G_sample,20)"
      ],
      "execution_count": 0,
      "outputs": [
        {
          "output_type": "display_data",
          "data": {
            "image/png": "[encoded data removed]",
            "text/plain": [
              "<Figure size 432x288 with 1 Axes>"
            ]
          },
          "metadata": {
            "tags": []
          }
        }
      ]
    }
  ]
}
